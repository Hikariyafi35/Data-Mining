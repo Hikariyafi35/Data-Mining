{
  "nbformat": 4,
  "nbformat_minor": 0,
  "metadata": {
    "colab": {
      "provenance": []
    },
    "kernelspec": {
      "name": "python3",
      "display_name": "Python 3"
    },
    "language_info": {
      "name": "python"
    }
  },
  "cells": [
    {
      "cell_type": "code",
      "execution_count": null,
      "metadata": {
        "id": "WAJx7zrKk9JV"
      },
      "outputs": [],
      "source": [
        "import numpy as np\n",
        "import matplotlib.pyplot as plt\n",
        "import pandas as pd\n"
      ]
    },
    {
      "cell_type": "code",
      "source": [
        "dataset = pd.read_csv('games_data_2fixx.csv')\n",
        "dataset"
      ],
      "metadata": {
        "id": "UuHdJ6UMmYlm",
        "colab": {
          "base_uri": "https://localhost:8080/",
          "height": 423
        },
        "outputId": "e167b593-e678-429d-ccd8-42f49e5e738d"
      },
      "execution_count": null,
      "outputs": [
        {
          "output_type": "execute_result",
          "data": {
            "text/plain": [
              "        id                             game  score  leaderbord  gamers  \\\n",
              "0        0               A Boy and His Blob    638        2.02    2194   \n",
              "1        1                    A Hat in Time   1992        1.53    7062   \n",
              "2        2              A Hero and a Garden   1364        1.01     503   \n",
              "3        3         A Hero and a Garden (EU)   1363        1.01     581   \n",
              "4        4  A King's Tale: Final Fantasy XV    637        2.02   21914   \n",
              "...    ...                              ...    ...         ...     ...   \n",
              "1579  1579         36 Fragments of Midnight   1367        1.06    8472   \n",
              "1580  1580  36 Fragments of Midnight (Asia)   1335        1.03    2131   \n",
              "1581  1581    36 Fragments of Midnight (EU)   1382        1.07   12273   \n",
              "1582  1582            428: Shibuya Scramble   1943        1.47     916   \n",
              "1583  1583       428: Shibuya Scramble (EU)   1917        1.45     718   \n",
              "\n",
              "      comp_perc  rating  min_comp_time  max_comp_time recommend to play  \n",
              "0          16.5     3.2             15             20       recommended  \n",
              "1          35.9     4.2             15             20       recommended  \n",
              "2          97.6     5.0              0              1       recommended  \n",
              "3          97.8     2.9              0              1   not recommended  \n",
              "4          14.1     3.3              4              5       recommended  \n",
              "...         ...     ...            ...            ...               ...  \n",
              "1579       82.3     2.5              0              1   not recommended  \n",
              "1580       88.9     2.4              0              1   not recommended  \n",
              "1581       79.2     2.4              0              1   not recommended  \n",
              "1582       41.5     4.2             40             50       recommended  \n",
              "1583       42.6     4.2             40             50       recommended  \n",
              "\n",
              "[1584 rows x 10 columns]"
            ],
            "text/html": [
              "\n",
              "  <div id=\"df-b546b0d7-3309-4a71-a850-041ec2203cd1\">\n",
              "    <div class=\"colab-df-container\">\n",
              "      <div>\n",
              "<style scoped>\n",
              "    .dataframe tbody tr th:only-of-type {\n",
              "        vertical-align: middle;\n",
              "    }\n",
              "\n",
              "    .dataframe tbody tr th {\n",
              "        vertical-align: top;\n",
              "    }\n",
              "\n",
              "    .dataframe thead th {\n",
              "        text-align: right;\n",
              "    }\n",
              "</style>\n",
              "<table border=\"1\" class=\"dataframe\">\n",
              "  <thead>\n",
              "    <tr style=\"text-align: right;\">\n",
              "      <th></th>\n",
              "      <th>id</th>\n",
              "      <th>game</th>\n",
              "      <th>score</th>\n",
              "      <th>leaderbord</th>\n",
              "      <th>gamers</th>\n",
              "      <th>comp_perc</th>\n",
              "      <th>rating</th>\n",
              "      <th>min_comp_time</th>\n",
              "      <th>max_comp_time</th>\n",
              "      <th>recommend to play</th>\n",
              "    </tr>\n",
              "  </thead>\n",
              "  <tbody>\n",
              "    <tr>\n",
              "      <th>0</th>\n",
              "      <td>0</td>\n",
              "      <td>A Boy and His Blob</td>\n",
              "      <td>638</td>\n",
              "      <td>2.02</td>\n",
              "      <td>2194</td>\n",
              "      <td>16.5</td>\n",
              "      <td>3.2</td>\n",
              "      <td>15</td>\n",
              "      <td>20</td>\n",
              "      <td>recommended</td>\n",
              "    </tr>\n",
              "    <tr>\n",
              "      <th>1</th>\n",
              "      <td>1</td>\n",
              "      <td>A Hat in Time</td>\n",
              "      <td>1992</td>\n",
              "      <td>1.53</td>\n",
              "      <td>7062</td>\n",
              "      <td>35.9</td>\n",
              "      <td>4.2</td>\n",
              "      <td>15</td>\n",
              "      <td>20</td>\n",
              "      <td>recommended</td>\n",
              "    </tr>\n",
              "    <tr>\n",
              "      <th>2</th>\n",
              "      <td>2</td>\n",
              "      <td>A Hero and a Garden</td>\n",
              "      <td>1364</td>\n",
              "      <td>1.01</td>\n",
              "      <td>503</td>\n",
              "      <td>97.6</td>\n",
              "      <td>5.0</td>\n",
              "      <td>0</td>\n",
              "      <td>1</td>\n",
              "      <td>recommended</td>\n",
              "    </tr>\n",
              "    <tr>\n",
              "      <th>3</th>\n",
              "      <td>3</td>\n",
              "      <td>A Hero and a Garden (EU)</td>\n",
              "      <td>1363</td>\n",
              "      <td>1.01</td>\n",
              "      <td>581</td>\n",
              "      <td>97.8</td>\n",
              "      <td>2.9</td>\n",
              "      <td>0</td>\n",
              "      <td>1</td>\n",
              "      <td>not recommended</td>\n",
              "    </tr>\n",
              "    <tr>\n",
              "      <th>4</th>\n",
              "      <td>4</td>\n",
              "      <td>A King's Tale: Final Fantasy XV</td>\n",
              "      <td>637</td>\n",
              "      <td>2.02</td>\n",
              "      <td>21914</td>\n",
              "      <td>14.1</td>\n",
              "      <td>3.3</td>\n",
              "      <td>4</td>\n",
              "      <td>5</td>\n",
              "      <td>recommended</td>\n",
              "    </tr>\n",
              "    <tr>\n",
              "      <th>...</th>\n",
              "      <td>...</td>\n",
              "      <td>...</td>\n",
              "      <td>...</td>\n",
              "      <td>...</td>\n",
              "      <td>...</td>\n",
              "      <td>...</td>\n",
              "      <td>...</td>\n",
              "      <td>...</td>\n",
              "      <td>...</td>\n",
              "      <td>...</td>\n",
              "    </tr>\n",
              "    <tr>\n",
              "      <th>1579</th>\n",
              "      <td>1579</td>\n",
              "      <td>36 Fragments of Midnight</td>\n",
              "      <td>1367</td>\n",
              "      <td>1.06</td>\n",
              "      <td>8472</td>\n",
              "      <td>82.3</td>\n",
              "      <td>2.5</td>\n",
              "      <td>0</td>\n",
              "      <td>1</td>\n",
              "      <td>not recommended</td>\n",
              "    </tr>\n",
              "    <tr>\n",
              "      <th>1580</th>\n",
              "      <td>1580</td>\n",
              "      <td>36 Fragments of Midnight (Asia)</td>\n",
              "      <td>1335</td>\n",
              "      <td>1.03</td>\n",
              "      <td>2131</td>\n",
              "      <td>88.9</td>\n",
              "      <td>2.4</td>\n",
              "      <td>0</td>\n",
              "      <td>1</td>\n",
              "      <td>not recommended</td>\n",
              "    </tr>\n",
              "    <tr>\n",
              "      <th>1581</th>\n",
              "      <td>1581</td>\n",
              "      <td>36 Fragments of Midnight (EU)</td>\n",
              "      <td>1382</td>\n",
              "      <td>1.07</td>\n",
              "      <td>12273</td>\n",
              "      <td>79.2</td>\n",
              "      <td>2.4</td>\n",
              "      <td>0</td>\n",
              "      <td>1</td>\n",
              "      <td>not recommended</td>\n",
              "    </tr>\n",
              "    <tr>\n",
              "      <th>1582</th>\n",
              "      <td>1582</td>\n",
              "      <td>428: Shibuya Scramble</td>\n",
              "      <td>1943</td>\n",
              "      <td>1.47</td>\n",
              "      <td>916</td>\n",
              "      <td>41.5</td>\n",
              "      <td>4.2</td>\n",
              "      <td>40</td>\n",
              "      <td>50</td>\n",
              "      <td>recommended</td>\n",
              "    </tr>\n",
              "    <tr>\n",
              "      <th>1583</th>\n",
              "      <td>1583</td>\n",
              "      <td>428: Shibuya Scramble (EU)</td>\n",
              "      <td>1917</td>\n",
              "      <td>1.45</td>\n",
              "      <td>718</td>\n",
              "      <td>42.6</td>\n",
              "      <td>4.2</td>\n",
              "      <td>40</td>\n",
              "      <td>50</td>\n",
              "      <td>recommended</td>\n",
              "    </tr>\n",
              "  </tbody>\n",
              "</table>\n",
              "<p>1584 rows × 10 columns</p>\n",
              "</div>\n",
              "      <button class=\"colab-df-convert\" onclick=\"convertToInteractive('df-b546b0d7-3309-4a71-a850-041ec2203cd1')\"\n",
              "              title=\"Convert this dataframe to an interactive table.\"\n",
              "              style=\"display:none;\">\n",
              "        \n",
              "  <svg xmlns=\"http://www.w3.org/2000/svg\" height=\"24px\"viewBox=\"0 0 24 24\"\n",
              "       width=\"24px\">\n",
              "    <path d=\"M0 0h24v24H0V0z\" fill=\"none\"/>\n",
              "    <path d=\"M18.56 5.44l.94 2.06.94-2.06 2.06-.94-2.06-.94-.94-2.06-.94 2.06-2.06.94zm-11 1L8.5 8.5l.94-2.06 2.06-.94-2.06-.94L8.5 2.5l-.94 2.06-2.06.94zm10 10l.94 2.06.94-2.06 2.06-.94-2.06-.94-.94-2.06-.94 2.06-2.06.94z\"/><path d=\"M17.41 7.96l-1.37-1.37c-.4-.4-.92-.59-1.43-.59-.52 0-1.04.2-1.43.59L10.3 9.45l-7.72 7.72c-.78.78-.78 2.05 0 2.83L4 21.41c.39.39.9.59 1.41.59.51 0 1.02-.2 1.41-.59l7.78-7.78 2.81-2.81c.8-.78.8-2.07 0-2.86zM5.41 20L4 18.59l7.72-7.72 1.47 1.35L5.41 20z\"/>\n",
              "  </svg>\n",
              "      </button>\n",
              "      \n",
              "  <style>\n",
              "    .colab-df-container {\n",
              "      display:flex;\n",
              "      flex-wrap:wrap;\n",
              "      gap: 12px;\n",
              "    }\n",
              "\n",
              "    .colab-df-convert {\n",
              "      background-color: #E8F0FE;\n",
              "      border: none;\n",
              "      border-radius: 50%;\n",
              "      cursor: pointer;\n",
              "      display: none;\n",
              "      fill: #1967D2;\n",
              "      height: 32px;\n",
              "      padding: 0 0 0 0;\n",
              "      width: 32px;\n",
              "    }\n",
              "\n",
              "    .colab-df-convert:hover {\n",
              "      background-color: #E2EBFA;\n",
              "      box-shadow: 0px 1px 2px rgba(60, 64, 67, 0.3), 0px 1px 3px 1px rgba(60, 64, 67, 0.15);\n",
              "      fill: #174EA6;\n",
              "    }\n",
              "\n",
              "    [theme=dark] .colab-df-convert {\n",
              "      background-color: #3B4455;\n",
              "      fill: #D2E3FC;\n",
              "    }\n",
              "\n",
              "    [theme=dark] .colab-df-convert:hover {\n",
              "      background-color: #434B5C;\n",
              "      box-shadow: 0px 1px 3px 1px rgba(0, 0, 0, 0.15);\n",
              "      filter: drop-shadow(0px 1px 2px rgba(0, 0, 0, 0.3));\n",
              "      fill: #FFFFFF;\n",
              "    }\n",
              "  </style>\n",
              "\n",
              "      <script>\n",
              "        const buttonEl =\n",
              "          document.querySelector('#df-b546b0d7-3309-4a71-a850-041ec2203cd1 button.colab-df-convert');\n",
              "        buttonEl.style.display =\n",
              "          google.colab.kernel.accessAllowed ? 'block' : 'none';\n",
              "\n",
              "        async function convertToInteractive(key) {\n",
              "          const element = document.querySelector('#df-b546b0d7-3309-4a71-a850-041ec2203cd1');\n",
              "          const dataTable =\n",
              "            await google.colab.kernel.invokeFunction('convertToInteractive',\n",
              "                                                     [key], {});\n",
              "          if (!dataTable) return;\n",
              "\n",
              "          const docLinkHtml = 'Like what you see? Visit the ' +\n",
              "            '<a target=\"_blank\" href=https://colab.research.google.com/notebooks/data_table.ipynb>data table notebook</a>'\n",
              "            + ' to learn more about interactive tables.';\n",
              "          element.innerHTML = '';\n",
              "          dataTable['output_type'] = 'display_data';\n",
              "          await google.colab.output.renderOutput(dataTable, element);\n",
              "          const docLink = document.createElement('div');\n",
              "          docLink.innerHTML = docLinkHtml;\n",
              "          element.appendChild(docLink);\n",
              "        }\n",
              "      </script>\n",
              "    </div>\n",
              "  </div>\n",
              "  "
            ]
          },
          "metadata": {},
          "execution_count": 65
        }
      ]
    },
    {
      "cell_type": "code",
      "source": [
        "dataset_baru = dataset.loc[:,['game','score','gamers','rating','recommend to play']]\n",
        "dataset_baru"
      ],
      "metadata": {
        "colab": {
          "base_uri": "https://localhost:8080/",
          "height": 423
        },
        "id": "9VNFj-Tcntlo",
        "outputId": "14c0e42e-da63-4e20-c458-2afbee58791f"
      },
      "execution_count": null,
      "outputs": [
        {
          "output_type": "execute_result",
          "data": {
            "text/plain": [
              "                                 game  score  gamers  rating recommend to play\n",
              "0                  A Boy and His Blob    638    2194     3.2       recommended\n",
              "1                       A Hat in Time   1992    7062     4.2       recommended\n",
              "2                 A Hero and a Garden   1364     503     5.0       recommended\n",
              "3            A Hero and a Garden (EU)   1363     581     2.9   not recommended\n",
              "4     A King's Tale: Final Fantasy XV    637   21914     3.3       recommended\n",
              "...                               ...    ...     ...     ...               ...\n",
              "1579         36 Fragments of Midnight   1367    8472     2.5   not recommended\n",
              "1580  36 Fragments of Midnight (Asia)   1335    2131     2.4   not recommended\n",
              "1581    36 Fragments of Midnight (EU)   1382   12273     2.4   not recommended\n",
              "1582            428: Shibuya Scramble   1943     916     4.2       recommended\n",
              "1583       428: Shibuya Scramble (EU)   1917     718     4.2       recommended\n",
              "\n",
              "[1584 rows x 5 columns]"
            ],
            "text/html": [
              "\n",
              "  <div id=\"df-253bac42-3a27-43d6-a9f9-80389c7570ff\">\n",
              "    <div class=\"colab-df-container\">\n",
              "      <div>\n",
              "<style scoped>\n",
              "    .dataframe tbody tr th:only-of-type {\n",
              "        vertical-align: middle;\n",
              "    }\n",
              "\n",
              "    .dataframe tbody tr th {\n",
              "        vertical-align: top;\n",
              "    }\n",
              "\n",
              "    .dataframe thead th {\n",
              "        text-align: right;\n",
              "    }\n",
              "</style>\n",
              "<table border=\"1\" class=\"dataframe\">\n",
              "  <thead>\n",
              "    <tr style=\"text-align: right;\">\n",
              "      <th></th>\n",
              "      <th>game</th>\n",
              "      <th>score</th>\n",
              "      <th>gamers</th>\n",
              "      <th>rating</th>\n",
              "      <th>recommend to play</th>\n",
              "    </tr>\n",
              "  </thead>\n",
              "  <tbody>\n",
              "    <tr>\n",
              "      <th>0</th>\n",
              "      <td>A Boy and His Blob</td>\n",
              "      <td>638</td>\n",
              "      <td>2194</td>\n",
              "      <td>3.2</td>\n",
              "      <td>recommended</td>\n",
              "    </tr>\n",
              "    <tr>\n",
              "      <th>1</th>\n",
              "      <td>A Hat in Time</td>\n",
              "      <td>1992</td>\n",
              "      <td>7062</td>\n",
              "      <td>4.2</td>\n",
              "      <td>recommended</td>\n",
              "    </tr>\n",
              "    <tr>\n",
              "      <th>2</th>\n",
              "      <td>A Hero and a Garden</td>\n",
              "      <td>1364</td>\n",
              "      <td>503</td>\n",
              "      <td>5.0</td>\n",
              "      <td>recommended</td>\n",
              "    </tr>\n",
              "    <tr>\n",
              "      <th>3</th>\n",
              "      <td>A Hero and a Garden (EU)</td>\n",
              "      <td>1363</td>\n",
              "      <td>581</td>\n",
              "      <td>2.9</td>\n",
              "      <td>not recommended</td>\n",
              "    </tr>\n",
              "    <tr>\n",
              "      <th>4</th>\n",
              "      <td>A King's Tale: Final Fantasy XV</td>\n",
              "      <td>637</td>\n",
              "      <td>21914</td>\n",
              "      <td>3.3</td>\n",
              "      <td>recommended</td>\n",
              "    </tr>\n",
              "    <tr>\n",
              "      <th>...</th>\n",
              "      <td>...</td>\n",
              "      <td>...</td>\n",
              "      <td>...</td>\n",
              "      <td>...</td>\n",
              "      <td>...</td>\n",
              "    </tr>\n",
              "    <tr>\n",
              "      <th>1579</th>\n",
              "      <td>36 Fragments of Midnight</td>\n",
              "      <td>1367</td>\n",
              "      <td>8472</td>\n",
              "      <td>2.5</td>\n",
              "      <td>not recommended</td>\n",
              "    </tr>\n",
              "    <tr>\n",
              "      <th>1580</th>\n",
              "      <td>36 Fragments of Midnight (Asia)</td>\n",
              "      <td>1335</td>\n",
              "      <td>2131</td>\n",
              "      <td>2.4</td>\n",
              "      <td>not recommended</td>\n",
              "    </tr>\n",
              "    <tr>\n",
              "      <th>1581</th>\n",
              "      <td>36 Fragments of Midnight (EU)</td>\n",
              "      <td>1382</td>\n",
              "      <td>12273</td>\n",
              "      <td>2.4</td>\n",
              "      <td>not recommended</td>\n",
              "    </tr>\n",
              "    <tr>\n",
              "      <th>1582</th>\n",
              "      <td>428: Shibuya Scramble</td>\n",
              "      <td>1943</td>\n",
              "      <td>916</td>\n",
              "      <td>4.2</td>\n",
              "      <td>recommended</td>\n",
              "    </tr>\n",
              "    <tr>\n",
              "      <th>1583</th>\n",
              "      <td>428: Shibuya Scramble (EU)</td>\n",
              "      <td>1917</td>\n",
              "      <td>718</td>\n",
              "      <td>4.2</td>\n",
              "      <td>recommended</td>\n",
              "    </tr>\n",
              "  </tbody>\n",
              "</table>\n",
              "<p>1584 rows × 5 columns</p>\n",
              "</div>\n",
              "      <button class=\"colab-df-convert\" onclick=\"convertToInteractive('df-253bac42-3a27-43d6-a9f9-80389c7570ff')\"\n",
              "              title=\"Convert this dataframe to an interactive table.\"\n",
              "              style=\"display:none;\">\n",
              "        \n",
              "  <svg xmlns=\"http://www.w3.org/2000/svg\" height=\"24px\"viewBox=\"0 0 24 24\"\n",
              "       width=\"24px\">\n",
              "    <path d=\"M0 0h24v24H0V0z\" fill=\"none\"/>\n",
              "    <path d=\"M18.56 5.44l.94 2.06.94-2.06 2.06-.94-2.06-.94-.94-2.06-.94 2.06-2.06.94zm-11 1L8.5 8.5l.94-2.06 2.06-.94-2.06-.94L8.5 2.5l-.94 2.06-2.06.94zm10 10l.94 2.06.94-2.06 2.06-.94-2.06-.94-.94-2.06-.94 2.06-2.06.94z\"/><path d=\"M17.41 7.96l-1.37-1.37c-.4-.4-.92-.59-1.43-.59-.52 0-1.04.2-1.43.59L10.3 9.45l-7.72 7.72c-.78.78-.78 2.05 0 2.83L4 21.41c.39.39.9.59 1.41.59.51 0 1.02-.2 1.41-.59l7.78-7.78 2.81-2.81c.8-.78.8-2.07 0-2.86zM5.41 20L4 18.59l7.72-7.72 1.47 1.35L5.41 20z\"/>\n",
              "  </svg>\n",
              "      </button>\n",
              "      \n",
              "  <style>\n",
              "    .colab-df-container {\n",
              "      display:flex;\n",
              "      flex-wrap:wrap;\n",
              "      gap: 12px;\n",
              "    }\n",
              "\n",
              "    .colab-df-convert {\n",
              "      background-color: #E8F0FE;\n",
              "      border: none;\n",
              "      border-radius: 50%;\n",
              "      cursor: pointer;\n",
              "      display: none;\n",
              "      fill: #1967D2;\n",
              "      height: 32px;\n",
              "      padding: 0 0 0 0;\n",
              "      width: 32px;\n",
              "    }\n",
              "\n",
              "    .colab-df-convert:hover {\n",
              "      background-color: #E2EBFA;\n",
              "      box-shadow: 0px 1px 2px rgba(60, 64, 67, 0.3), 0px 1px 3px 1px rgba(60, 64, 67, 0.15);\n",
              "      fill: #174EA6;\n",
              "    }\n",
              "\n",
              "    [theme=dark] .colab-df-convert {\n",
              "      background-color: #3B4455;\n",
              "      fill: #D2E3FC;\n",
              "    }\n",
              "\n",
              "    [theme=dark] .colab-df-convert:hover {\n",
              "      background-color: #434B5C;\n",
              "      box-shadow: 0px 1px 3px 1px rgba(0, 0, 0, 0.15);\n",
              "      filter: drop-shadow(0px 1px 2px rgba(0, 0, 0, 0.3));\n",
              "      fill: #FFFFFF;\n",
              "    }\n",
              "  </style>\n",
              "\n",
              "      <script>\n",
              "        const buttonEl =\n",
              "          document.querySelector('#df-253bac42-3a27-43d6-a9f9-80389c7570ff button.colab-df-convert');\n",
              "        buttonEl.style.display =\n",
              "          google.colab.kernel.accessAllowed ? 'block' : 'none';\n",
              "\n",
              "        async function convertToInteractive(key) {\n",
              "          const element = document.querySelector('#df-253bac42-3a27-43d6-a9f9-80389c7570ff');\n",
              "          const dataTable =\n",
              "            await google.colab.kernel.invokeFunction('convertToInteractive',\n",
              "                                                     [key], {});\n",
              "          if (!dataTable) return;\n",
              "\n",
              "          const docLinkHtml = 'Like what you see? Visit the ' +\n",
              "            '<a target=\"_blank\" href=https://colab.research.google.com/notebooks/data_table.ipynb>data table notebook</a>'\n",
              "            + ' to learn more about interactive tables.';\n",
              "          element.innerHTML = '';\n",
              "          dataTable['output_type'] = 'display_data';\n",
              "          await google.colab.output.renderOutput(dataTable, element);\n",
              "          const docLink = document.createElement('div');\n",
              "          docLink.innerHTML = docLinkHtml;\n",
              "          element.appendChild(docLink);\n",
              "        }\n",
              "      </script>\n",
              "    </div>\n",
              "  </div>\n",
              "  "
            ]
          },
          "metadata": {},
          "execution_count": 68
        }
      ]
    },
    {
      "cell_type": "code",
      "source": [
        "x = dataset_baru.loc[:, ['game','score','gamers','rating']].values\n",
        "y = dataset_baru.loc[:, ['recommend to play']].values\n",
        "print(x,y)"
      ],
      "metadata": {
        "colab": {
          "base_uri": "https://localhost:8080/"
        },
        "id": "vkHc_9kopRS_",
        "outputId": "ca6455ca-d26f-439b-f7de-cfad517bff7a"
      },
      "execution_count": null,
      "outputs": [
        {
          "output_type": "stream",
          "name": "stdout",
          "text": [
            "[[1.4000e+01 6.3800e+02 2.1940e+03 3.2000e+00]\n",
            " [1.5000e+01 1.9920e+03 7.0620e+03 4.2000e+00]\n",
            " [1.6000e+01 1.3640e+03 5.0300e+02 5.0000e+00]\n",
            " ...\n",
            " [1.1000e+01 1.3820e+03 1.2273e+04 2.4000e+00]\n",
            " [1.2000e+01 1.9430e+03 9.1600e+02 4.2000e+00]\n",
            " [1.3000e+01 1.9170e+03 7.1800e+02 4.2000e+00]] [['recommended']\n",
            " ['recommended']\n",
            " ['recommended']\n",
            " ...\n",
            " ['not recommended']\n",
            " ['recommended']\n",
            " ['recommended']]\n"
          ]
        }
      ]
    },
    {
      "cell_type": "code",
      "source": [
        "from sklearn.preprocessing import LabelEncoder\n",
        "le = LabelEncoder()\n",
        "dataset_baru['game'] = le.fit_transform(dataset['game'].values)\n",
        "y = le.fit_transform(y)\n",
        "print(dataset_baru)\n",
        "print(y)"
      ],
      "metadata": {
        "colab": {
          "base_uri": "https://localhost:8080/"
        },
        "id": "_cbWuhjbTGvi",
        "outputId": "84eda937-6f66-43cb-d802-b6685fb94233"
      },
      "execution_count": null,
      "outputs": [
        {
          "output_type": "stream",
          "name": "stdout",
          "text": [
            "      game  score  gamers  rating recommend to play\n",
            "0       14    638    2194     3.2       recommended\n",
            "1       15   1992    7062     4.2       recommended\n",
            "2       16   1364     503     5.0       recommended\n",
            "3       17   1363     581     2.9   not recommended\n",
            "4       18    637   21914     3.3       recommended\n",
            "...    ...    ...     ...     ...               ...\n",
            "1579     9   1367    8472     2.5   not recommended\n",
            "1580    10   1335    2131     2.4   not recommended\n",
            "1581    11   1382   12273     2.4   not recommended\n",
            "1582    12   1943     916     4.2       recommended\n",
            "1583    13   1917     718     4.2       recommended\n",
            "\n",
            "[1584 rows x 5 columns]\n",
            "[1 1 1 ... 0 1 1]\n"
          ]
        },
        {
          "output_type": "stream",
          "name": "stderr",
          "text": [
            "/usr/local/lib/python3.9/dist-packages/sklearn/preprocessing/_label.py:116: DataConversionWarning: A column-vector y was passed when a 1d array was expected. Please change the shape of y to (n_samples, ), for example using ravel().\n",
            "  y = column_or_1d(y, warn=True)\n"
          ]
        }
      ]
    },
    {
      "cell_type": "code",
      "source": [
        "print(x,y)"
      ],
      "metadata": {
        "colab": {
          "base_uri": "https://localhost:8080/"
        },
        "id": "i2XG5rKKYwdy",
        "outputId": "2a6d679f-4abd-4e00-ced5-545d8884a3f7"
      },
      "execution_count": null,
      "outputs": [
        {
          "output_type": "stream",
          "name": "stdout",
          "text": [
            "[[1.4000e+01 6.3800e+02 2.1940e+03 3.2000e+00]\n",
            " [1.5000e+01 1.9920e+03 7.0620e+03 4.2000e+00]\n",
            " [1.6000e+01 1.3640e+03 5.0300e+02 5.0000e+00]\n",
            " ...\n",
            " [1.1000e+01 1.3820e+03 1.2273e+04 2.4000e+00]\n",
            " [1.2000e+01 1.9430e+03 9.1600e+02 4.2000e+00]\n",
            " [1.3000e+01 1.9170e+03 7.1800e+02 4.2000e+00]] [1 1 1 ... 0 1 1]\n"
          ]
        }
      ]
    },
    {
      "cell_type": "code",
      "source": [
        "from sklearn.model_selection import train_test_split\n",
        "x_train, x_test, y_train, y_test = train_test_split(x, y, test_size=0.2, random_state=0)"
      ],
      "metadata": {
        "id": "YNUCkpHhHdLn"
      },
      "execution_count": null,
      "outputs": []
    },
    {
      "cell_type": "code",
      "source": [
        "print(x_train)"
      ],
      "metadata": {
        "colab": {
          "base_uri": "https://localhost:8080/"
        },
        "id": "OABHkZyhKEE5",
        "outputId": "37257209-1b44-4bdb-f700-d3f55f7eb6ff"
      },
      "execution_count": null,
      "outputs": [
        {
          "output_type": "stream",
          "name": "stdout",
          "text": [
            "[[2.2900e+02 1.4420e+03 1.7000e+03 3.4000e+00]\n",
            " [1.1930e+03 1.5810e+03 2.1660e+03 3.3000e+00]\n",
            " [7.7000e+01 2.6840e+03 1.4809e+04 3.3000e+00]\n",
            " ...\n",
            " [1.2260e+03 1.6890e+03 7.3734e+04 4.3000e+00]\n",
            " [5.7100e+02 4.0640e+03 3.3239e+04 3.1000e+00]\n",
            " [6.9200e+02 1.3560e+03 1.2140e+03 2.1000e+00]]\n"
          ]
        }
      ]
    },
    {
      "cell_type": "code",
      "source": [
        "print(x_test)"
      ],
      "metadata": {
        "colab": {
          "base_uri": "https://localhost:8080/"
        },
        "id": "OVCkkvPDKWUr",
        "outputId": "4b109711-3e33-4cb5-b4f0-9707e7536692"
      },
      "execution_count": null,
      "outputs": [
        {
          "output_type": "stream",
          "name": "stdout",
          "text": [
            "[[9.5700e+02 5.0100e+02 7.1450e+03 3.7000e+00]\n",
            " [1.0410e+03 1.3380e+03 1.1810e+03 1.0000e+00]\n",
            " [9.0100e+02 1.3750e+03 4.8069e+04 1.8000e+00]\n",
            " ...\n",
            " [7.5700e+02 3.8730e+03 3.2875e+04 3.4000e+00]\n",
            " [2.4400e+02 1.5610e+03 5.9430e+03 3.7000e+00]\n",
            " [4.1100e+02 5.8700e+02 5.0160e+04 2.8000e+00]]\n"
          ]
        }
      ]
    },
    {
      "cell_type": "code",
      "source": [
        "print(y_train)"
      ],
      "metadata": {
        "colab": {
          "base_uri": "https://localhost:8080/"
        },
        "id": "0wa9Pq8VKddC",
        "outputId": "508f602e-01b2-4a47-b0e7-c847ad97a027"
      },
      "execution_count": null,
      "outputs": [
        {
          "output_type": "stream",
          "name": "stdout",
          "text": [
            "[1 1 1 ... 1 1 0]\n"
          ]
        }
      ]
    },
    {
      "cell_type": "code",
      "source": [
        "print(y_test)"
      ],
      "metadata": {
        "colab": {
          "base_uri": "https://localhost:8080/"
        },
        "id": "sNj_CkSQKjUC",
        "outputId": "ffd80677-0439-4c6a-97e3-8f8700ac97ce"
      },
      "execution_count": null,
      "outputs": [
        {
          "output_type": "stream",
          "name": "stdout",
          "text": [
            "[1 0 0 0 0 1 0 0 1 0 1 1 1 1 0 0 1 0 1 1 0 1 0 0 1 0 0 0 1 1 1 0 0 1 1 0 1\n",
            " 1 0 1 0 0 1 1 0 1 1 0 1 1 0 1 1 1 1 1 1 1 1 0 0 0 0 1 1 0 0 1 1 0 0 1 0 0\n",
            " 1 1 1 1 1 1 1 1 0 1 0 1 0 1 1 0 1 1 0 1 1 1 0 0 0 0 1 0 0 0 0 1 1 1 1 0 1\n",
            " 1 1 0 1 1 0 0 0 1 1 1 1 0 1 1 1 1 1 1 1 1 0 1 1 0 0 1 0 0 1 0 1 0 0 1 0 1\n",
            " 0 0 0 0 0 0 1 1 1 1 0 1 1 0 1 1 0 1 1 1 1 0 1 1 0 1 1 0 0 1 1 1 1 0 1 1 1\n",
            " 1 1 0 1 1 0 1 1 1 1 0 1 0 1 0 0 0 0 1 1 1 1 0 1 1 1 1 1 1 0 1 0 0 1 1 1 1\n",
            " 1 0 1 0 0 1 0 0 0 1 1 1 0 1 0 0 1 0 1 1 1 1 1 0 0 0 0 1 1 0 0 1 1 0 0 1 1\n",
            " 0 1 1 0 1 0 1 0 1 1 1 0 1 0 0 1 1 1 0 0 0 0 0 1 1 1 0 1 1 1 0 1 0 1 1 0 1\n",
            " 0 1 0 1 1 1 1 1 1 0 0 1 0 1 1 0 1 0 1 1 0]\n"
          ]
        }
      ]
    },
    {
      "cell_type": "code",
      "source": [
        "from sklearn.preprocessing import StandardScaler\n",
        "sc = StandardScaler()\n",
        "x_train[:, 3:5] = sc.fit_transform(x_train[:, 3:5])\n",
        "x_test[:, 3:5] = sc.transform(x_test[:, 3:5])"
      ],
      "metadata": {
        "id": "46XilOiPKvJU"
      },
      "execution_count": null,
      "outputs": []
    },
    {
      "cell_type": "code",
      "source": [
        "print(x_train)"
      ],
      "metadata": {
        "colab": {
          "base_uri": "https://localhost:8080/"
        },
        "id": "HWnMtdvxLoXS",
        "outputId": "bda30748-069b-4b6e-b846-3c4e1e176d0f"
      },
      "execution_count": null,
      "outputs": [
        {
          "output_type": "stream",
          "name": "stdout",
          "text": [
            "[[ 2.29000000e+02  1.44200000e+03  1.70000000e+03  3.25815789e-01]\n",
            " [ 1.19300000e+03  1.58100000e+03  2.16600000e+03  2.24038519e-01]\n",
            " [ 7.70000000e+01  2.68400000e+03  1.48090000e+04  2.24038519e-01]\n",
            " ...\n",
            " [ 1.22600000e+03  1.68900000e+03  7.37340000e+04  1.24181121e+00]\n",
            " [ 5.71000000e+02  4.06400000e+03  3.32390000e+04  2.04839808e-02]\n",
            " [ 6.92000000e+02  1.35600000e+03  1.21400000e+03 -9.97288712e-01]]\n"
          ]
        }
      ]
    },
    {
      "cell_type": "code",
      "source": [
        "print(x_test)"
      ],
      "metadata": {
        "id": "lEKD63fML3NH",
        "outputId": "decfca27-c591-4f87-aece-9626967bebcf",
        "colab": {
          "base_uri": "https://localhost:8080/"
        }
      },
      "execution_count": null,
      "outputs": [
        {
          "output_type": "stream",
          "name": "stdout",
          "text": [
            "[[ 9.57000000e+02  5.01000000e+02  7.14500000e+03  6.31147597e-01]\n",
            " [ 1.04100000e+03  1.33800000e+03  1.18100000e+03 -2.11683868e+00]\n",
            " [ 9.01000000e+02  1.37500000e+03  4.80690000e+04 -1.30262052e+00]\n",
            " ...\n",
            " [ 7.57000000e+02  3.87300000e+03  3.28750000e+04  3.25815789e-01]\n",
            " [ 2.44000000e+02  1.56100000e+03  5.94300000e+03  6.31147597e-01]\n",
            " [ 4.11000000e+02  5.87000000e+02  5.01600000e+04 -2.84847827e-01]]\n"
          ]
        }
      ]
    }
  ]
}